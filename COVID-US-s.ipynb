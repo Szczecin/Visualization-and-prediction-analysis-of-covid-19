{
 "cells": [
  {
   "cell_type": "code",
   "execution_count": 2,
   "metadata": {},
   "outputs": [],
   "source": [
    "import time\n",
    "import json\n",
    "import pandas as pd\n",
    "import numpy as np\n",
    "def get_last_data():\n",
    "    import requests\n",
    "    url = r\"\"\"https://view.inews.qq.com/g2/getOnsInfo?name=disease_h5&_={0}\"\"\".format(int(time.time()*1000))\n",
    "    result = requests.get(url)\n",
    "    data = json.loads(result.json()['data'])\n",
    "\n",
    "    return data\n",
    "\n",
    "def get_hist_data():\n",
    "    import requests\n",
    "    url = r\"\"\"https://view.inews.qq.com/g2/getOnsInfo?name=disease_other&_={0}\"\"\".format(int(time.time()*1000))\n",
    "    result = requests.get(url)\n",
    "    data = json.loads(result.json()['data'])\n",
    "\n",
    "    return data\n",
    "\n",
    "def get_world_data():\n",
    "    import requests\n",
    "    url = r\"\"\"https://view.inews.qq.com/g2/getOnsInfo?name=disease_foreign&_={0}\"\"\".format(int(time.time()*1000))\n",
    "    result = requests.get(url)\n",
    "    data = json.loads(result.json()['data'])\n",
    "\n",
    "    return data\n",
    "\n",
    "last_data = get_last_data()\n",
    "world_data = get_world_data()"
   ]
  },
  {
   "cell_type": "code",
   "execution_count": 7,
   "metadata": {},
   "outputs": [
    {
     "name": "stdout",
     "output_type": "stream",
     "text": [
      "{'name': '纽约', 'date': '06.03', 'nameMap': 'New York', 'isUpdated': True, 'confirmAdd': 0, 'confirmAddCut': 0, 'confirm': 378113, 'suspect': 0, 'dead': 29968, 'heal': 45006}\n"
     ]
    },
    {
     "ename": "KeyError",
     "evalue": "'children'",
     "output_type": "error",
     "traceback": [
      "\u001b[1;31m---------------------------------------------------------------------------\u001b[0m",
      "\u001b[1;31mKeyError\u001b[0m                                  Traceback (most recent call last)",
      "\u001b[1;32m<ipython-input-7-601273874374>\u001b[0m in \u001b[0;36m<module>\u001b[1;34m\u001b[0m\n\u001b[0;32m     22\u001b[0m \u001b[1;33m\u001b[0m\u001b[0m\n\u001b[0;32m     23\u001b[0m \u001b[1;33m\u001b[0m\u001b[0m\n\u001b[1;32m---> 24\u001b[1;33m \u001b[0mNewYork_today\u001b[0m\u001b[1;33m,\u001b[0m \u001b[0mNewYork_total\u001b[0m \u001b[1;33m=\u001b[0m \u001b[0mget_city_last_info\u001b[0m\u001b[1;33m(\u001b[0m\u001b[0mworld_data\u001b[0m\u001b[1;33m,\u001b[0m \u001b[1;34m'纽约'\u001b[0m\u001b[1;33m)\u001b[0m\u001b[1;33m\u001b[0m\u001b[1;33m\u001b[0m\u001b[0m\n\u001b[0m\u001b[0;32m     25\u001b[0m \u001b[0mtoday\u001b[0m \u001b[1;33m=\u001b[0m \u001b[0mpd\u001b[0m\u001b[1;33m.\u001b[0m\u001b[0mconcat\u001b[0m\u001b[1;33m(\u001b[0m\u001b[0mNewYork_today\u001b[0m\u001b[1;33m,\u001b[0m \u001b[0maxis\u001b[0m\u001b[1;33m=\u001b[0m\u001b[1;36m0\u001b[0m\u001b[1;33m)\u001b[0m\u001b[1;33m\u001b[0m\u001b[1;33m\u001b[0m\u001b[0m\n\u001b[0;32m     26\u001b[0m \u001b[0mtoday\u001b[0m\u001b[1;33m[\u001b[0m\u001b[0mtoday\u001b[0m\u001b[1;33m[\u001b[0m\u001b[1;34m'province'\u001b[0m\u001b[1;33m]\u001b[0m \u001b[1;33m==\u001b[0m \u001b[1;34m'纽约'\u001b[0m\u001b[1;33m]\u001b[0m\u001b[1;33m\u001b[0m\u001b[1;33m\u001b[0m\u001b[0m\n",
      "\u001b[1;32m<ipython-input-7-601273874374>\u001b[0m in \u001b[0;36mget_city_last_info\u001b[1;34m(data, province)\u001b[0m\n\u001b[0;32m      7\u001b[0m     \u001b[0mprint\u001b[0m\u001b[1;33m(\u001b[0m\u001b[0mp\u001b[0m\u001b[1;33m)\u001b[0m\u001b[1;33m\u001b[0m\u001b[1;33m\u001b[0m\u001b[0m\n\u001b[0;32m      8\u001b[0m \u001b[1;33m\u001b[0m\u001b[0m\n\u001b[1;32m----> 9\u001b[1;33m     \u001b[1;32mfor\u001b[0m \u001b[0mcity\u001b[0m \u001b[1;32min\u001b[0m \u001b[0mp\u001b[0m\u001b[1;33m[\u001b[0m\u001b[1;34m'children'\u001b[0m\u001b[1;33m]\u001b[0m\u001b[1;33m:\u001b[0m\u001b[1;33m\u001b[0m\u001b[1;33m\u001b[0m\u001b[0m\n\u001b[0m\u001b[0;32m     10\u001b[0m         \u001b[1;31m#city_today = city['today']\u001b[0m\u001b[1;33m\u001b[0m\u001b[1;33m\u001b[0m\u001b[1;33m\u001b[0m\u001b[0m\n\u001b[0;32m     11\u001b[0m         \u001b[0mcity_today\u001b[0m\u001b[1;33m[\u001b[0m\u001b[1;34m'city'\u001b[0m\u001b[1;33m]\u001b[0m \u001b[1;33m=\u001b[0m \u001b[0mcity\u001b[0m\u001b[1;33m[\u001b[0m\u001b[1;34m'name'\u001b[0m\u001b[1;33m]\u001b[0m\u001b[1;33m\u001b[0m\u001b[1;33m\u001b[0m\u001b[0m\n",
      "\u001b[1;31mKeyError\u001b[0m: 'children'"
     ]
    }
   ],
   "source": []
  },
  {
   "cell_type": "code",
   "execution_count": 3,
   "metadata": {},
   "outputs": [
    {
     "name": "stdout",
     "output_type": "stream",
     "text": [
      "       name   date            nameMap  isUpdated  confirmAdd  confirmAddCut  \\\n",
      "0        纽约  06.10           New York       True           0              0   \n",
      "1       新泽西  06.10         New Jersey       True           0              0   \n",
      "2     加利福尼亚  06.10         California       True           0              0   \n",
      "3      伊利诺伊  06.10           Illinois       True           0              0   \n",
      "4      马萨诸塞  06.10      Massachusetts       True           0              0   \n",
      "..      ...    ...                ...        ...         ...            ...   \n",
      "58  美属维尔京群岛  06.10  US Virgin Islands       True           0              0   \n",
      "59  钻石公主号邮轮  06.10                          True           0              0   \n",
      "60  北马里亚纳群岛  06.10                          True           0              0   \n",
      "61     撤回侨民  06.10                          True           0              0   \n",
      "62    地区待确认  04.02                         False           0              0   \n",
      "\n",
      "    confirm  suspect   dead   heal  \n",
      "0    384561        0  30458  47715  \n",
      "1    164796        0  12303   3856  \n",
      "2    136641        0   4746  22258  \n",
      "3    129212        0   6018  70558  \n",
      "4    103889        0   7408  78108  \n",
      "..      ...      ...    ...    ...  \n",
      "58       71        0      6     63  \n",
      "59       49        0      0      0  \n",
      "60       30        0      2     16  \n",
      "61        4        0      0      0  \n",
      "62        0        0      0      0  \n",
      "\n",
      "[63 rows x 10 columns]\n"
     ]
    }
   ],
   "source": [
    "from pyecharts import options as opts\n",
    "from pyecharts.globals import ThemeType\n",
    "from pyecharts.charts import Line\n",
    "#hist_data = get_hist_data()\n",
    "us_data = get_world_data()\n",
    "US_day_list = pd.DataFrame(us_data['foreignList'][0]['children'])\n",
    "print(US_day_list)\n",
    "outputpath='usa.xlsx'\n",
    "US_day_list.to_excel(outputpath,index=False,header=True)"
   ]
  },
  {
   "cell_type": "code",
   "execution_count": 11,
   "metadata": {},
   "outputs": [
    {
     "data": {
      "text/plain": [
       "'d:\\\\Program Op\\\\Jupyter\\\\usa.html'"
      ]
     },
     "execution_count": 11,
     "metadata": {},
     "output_type": "execute_result"
    }
   ],
   "source": [
    "import ssl\n",
    "\n",
    "import pyecharts.options as opts\n",
    "from pyecharts.charts import Map\n",
    "from pyecharts.datasets import register_url\n",
    "\n",
    "ssl._create_default_https_context = ssl._create_unverified_context\n",
    "register_url(\"https://echarts-maps.github.io/echarts-countries-js/\")\n",
    "\n",
    "confirms = list()\n",
    "for state in us_data['foreignList'][0]['children']:\n",
    "    state_name = state['nameMap']\n",
    "    state_data = state['confirm'] - state['heal'] - state['dead']\n",
    "    confirms.append([state_name, state_data])\n",
    "map_ = Map()\n",
    "map_.add(\"现有确诊\", confirms, \"美国\", is_map_symbol_show=False)\n",
    "map_.set_global_opts(title_opts=opts.TitleOpts(title=\"当前现有确诊病例数，排除治愈、死亡\"), \n",
    "                     visualmap_opts=opts.VisualMapOpts(max_=500000, is_piecewise=True,\n",
    "                                                       pieces=[\n",
    "                                                           {\"min\": 100000},\n",
    "                                                           {\"min\": 30000, \"max\": 100000}, \n",
    "                                                           {\"min\": 15000, \"max\": 30000},\n",
    "                                                           {\"min\": 8000, \"max\": 15000},\n",
    "                                                           {\"min\": 4000, \"max\": 8000},\n",
    "                                                           {\"min\": 2000, \"max\": 4000},\n",
    "                                                           {\"min\": 1000, \"max\": 2000},\n",
    "                                                           {\"min\": 600, \"max\": 1000},\n",
    "                                                           {\"min\": 300, \"max\": 600},\n",
    "                                                           {\"min\": 50, \"max\": 300},\n",
    "                                                           {\"max\": 50}\n",
    "                                                          ],\n",
    "#                                                        range_color\n",
    "                                                      ))\n",
    "map_.render('usa.html')"
   ]
  },
  {
   "cell_type": "code",
   "execution_count": null,
   "metadata": {},
   "outputs": [],
   "source": []
  }
 ],
 "metadata": {
  "kernelspec": {
   "display_name": "Python 3",
   "language": "python",
   "name": "python3"
  },
  "language_info": {
   "codemirror_mode": {
    "name": "ipython",
    "version": 3
   },
   "file_extension": ".py",
   "mimetype": "text/x-python",
   "name": "python",
   "nbconvert_exporter": "python",
   "pygments_lexer": "ipython3",
   "version": "3.7.4"
  }
 },
 "nbformat": 4,
 "nbformat_minor": 4
}
